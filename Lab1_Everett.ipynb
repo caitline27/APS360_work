{
  "nbformat": 4,
  "nbformat_minor": 0,
  "metadata": {
    "colab": {
      "name": "Lab1_Everett.ipynb",
      "provenance": [],
      "collapsed_sections": [],
      "include_colab_link": true
    },
    "kernelspec": {
      "display_name": "Python 3",
      "language": "python",
      "name": "python3"
    },
    "language_info": {
      "codemirror_mode": {
        "name": "ipython",
        "version": 3
      },
      "file_extension": ".py",
      "mimetype": "text/x-python",
      "name": "python",
      "nbconvert_exporter": "python",
      "pygments_lexer": "ipython3",
      "version": "3.7.4"
    }
  },
  "cells": [
    {
      "cell_type": "markdown",
      "metadata": {
        "id": "view-in-github",
        "colab_type": "text"
      },
      "source": [
        "<a href=\"https://colab.research.google.com/github/caitline27/APS360_work/blob/master/Lab1_Everett.ipynb\" target=\"_parent\"><img src=\"https://colab.research.google.com/assets/colab-badge.svg\" alt=\"Open In Colab\"/></a>"
      ]
    },
    {
      "cell_type": "markdown",
      "metadata": {
        "colab_type": "text",
        "id": "3sxa8YxCbzGL"
      },
      "source": [
        "# Lab 1. PyTorch and ANNs\n",
        "\n",
        "**Deadline**: Thursday, May 21, 11:59pm.\n",
        "\n",
        "**Total**: 30 Points\n",
        "\n",
        "**Late Penalty**: There is a penalty-free grace period of one hour past the deadline. Any work that is submitted between 1 hour and 24 hours past the deadline will receive a 20% grade deduction. No other late work is accepted. Quercus submission time will be used, not your local computer time. You can submit your labs as many times as you want before the deadline, so please submit often and early.\n",
        "\n",
        "**Grading TA**: Justin Beland\n",
        "\n",
        "This lab is partially based on an assignment developed by Prof. Jonathan Rose and Harris Chan.\n",
        "\n",
        "This lab is a warm up to get you used to the PyTorch programming environment used\n",
        "in the course, and also to help you review and renew your knowledge\n",
        "of Python and relevant Python libraries.\n",
        "The lab must be done individually. Please recall that the\n",
        "University of Toronto plagarism rules apply.\n",
        "\n",
        "By the end of this lab, you should be able to:\n",
        "\n",
        "1. Be able to perform basic PyTorch tensor operations.\n",
        "2. Be able to load data into PyTorch\n",
        "3. Be able to configure an Artificial Neural Network (ANN) using PyTorch\n",
        "4. Be able to train ANNs using PyTorch\n",
        "5. Be able to evaluate different ANN configuations\n",
        "\n",
        "You will need to use numpy and PyTorch documentations for this assignment:\n",
        "\n",
        "* https://docs.scipy.org/doc/numpy/reference/\n",
        "* https://pytorch.org/docs/stable/torch.html\n",
        "\n",
        "You can also reference Python API documentations freely.\n",
        "\n",
        "\n",
        "### What to submit\n",
        "\n",
        "Submit a PDF file containing all your code, outputs, and write-up\n",
        "from parts 1-5. You can produce a PDF of your Google Colab file by\n",
        "going to **File > Print** and then save as PDF. The Colab instructions\n",
        "has more information.\n",
        "\n",
        "**Do not submit any other files produced by your code.**\n",
        "\n",
        "Include a link to your colab file in your submission.\n",
        "\n",
        "Please use Google Colab to complete this assignment. If you want to use Jupyter Notebook, please complete the assignment and upload your Jupyter Notebook file to Google Colab for submission. \n",
        "\n",
        "With Colab, you can export a PDF file using the menu option\n",
        "`File -> Print` and save as PDF file."
      ]
    },
    {
      "cell_type": "markdown",
      "metadata": {
        "colab_type": "text",
        "id": "_TlLBrWBIGt0"
      },
      "source": [
        "## Colab Link\n",
        "\n",
        "Submit make sure to include a link to your colab file here\n",
        "\n",
        "Colab Link:  https://colab.research.google.com/drive/19_85tPuVUKe8j_SBpZQT4RFU_q_GX4tk?usp=sharing "
      ]
    },
    {
      "cell_type": "markdown",
      "metadata": {
        "colab_type": "text",
        "id": "mALD3Y2bbzGT"
      },
      "source": [
        "## Part 1. Python Basics [3 pt]\n",
        "\n",
        "The purpose of this section is to get you used to the \n",
        "basics of Python, including working with functions, numbers,\n",
        "lists, and strings.\n",
        "\n",
        "Note that we **will** be checking your code for clarity and efficiency.\n",
        "\n",
        "If you have trouble with this part of the assignment, please review http://cs231n.github.io/python-numpy-tutorial/"
      ]
    },
    {
      "cell_type": "markdown",
      "metadata": {
        "colab_type": "text",
        "id": "7gimRTE9bzGa"
      },
      "source": [
        "### Part (a) -- 1pt\n",
        "\n",
        "Write a function `sum_of_cubes` that computes the sum of cubes up to `n`. If the input to `sum_of_cubes` invalid (e.g. negative or non-integer `n`), the function should print out `\"Invalid input\"` and return `-1`."
      ]
    },
    {
      "cell_type": "code",
      "metadata": {
        "colab_type": "code",
        "id": "fifG_Wv6bzGf",
        "colab": {
          "base_uri": "https://localhost:8080/",
          "height": 52
        },
        "outputId": "50dfbb30-2f41-4cf3-ebc3-13dd3d948ac3"
      },
      "source": [
        "def sum_of_cubes(n):\n",
        "    \"\"\"Return the sum (1^3 + 2^3 + 3^3 + ... + n^3)\n",
        "    \n",
        "    Precondition: n > 0, type(n) == int\n",
        "    \n",
        "    >>> sum_of_cubes(3)\n",
        "    36\n",
        "    >>> sum_of_cubes(1)\n",
        "    1\n",
        "    \"\"\"\n",
        "    sum = 0\n",
        "    if n>=1:\n",
        "      for i in range(1, n+1):\n",
        "        sum += i**3\n",
        "      return sum\n",
        "    elif n<1:\n",
        "      print(\"Invalid input\")\n",
        "      return -1\n",
        "\n",
        "n = int(input(\"Enter value of n:\"))\n",
        "print(\"sum of cubes is \", sum_of_cubes(n))\n",
        "   \n",
        "\n",
        "  \n",
        "\n"
      ],
      "execution_count": null,
      "outputs": [
        {
          "output_type": "stream",
          "text": [
            "Enter value of n:7\n",
            "sum of cubes is  784\n"
          ],
          "name": "stdout"
        }
      ]
    },
    {
      "cell_type": "markdown",
      "metadata": {
        "colab_type": "text",
        "id": "bOxDP8AlbzG2"
      },
      "source": [
        "### Part (b) -- 1pt\n",
        "\n",
        "Write a function `word_lengths` that takes a sentence (string), computes the length of each word in that sentence, and returns the length of each word in a list. You can\n",
        "assume that words are always separated by a space character `\" \"`.\n",
        "\n",
        "Hint: recall the `str.split` function in Python.\n",
        "If you arenot sure how this function works, try\n",
        "typing `help(str.split)` into a Python shell, or check out https://docs.python.org/3.6/library/stdtypes.html#str.split"
      ]
    },
    {
      "cell_type": "code",
      "metadata": {
        "colab_type": "code",
        "id": "H84jlGrVbzG5",
        "colab": {
          "base_uri": "https://localhost:8080/",
          "height": 209
        },
        "outputId": "8e446616-0223-43b1-9d5b-31d4dc366050"
      },
      "source": [
        "help(str.split)"
      ],
      "execution_count": null,
      "outputs": [
        {
          "output_type": "stream",
          "text": [
            "Help on method_descriptor:\n",
            "\n",
            "split(...)\n",
            "    S.split(sep=None, maxsplit=-1) -> list of strings\n",
            "    \n",
            "    Return a list of the words in S, using sep as the\n",
            "    delimiter string.  If maxsplit is given, at most maxsplit\n",
            "    splits are done. If sep is not specified or is None, any\n",
            "    whitespace string is a separator and empty strings are\n",
            "    removed from the result.\n",
            "\n"
          ],
          "name": "stdout"
        }
      ]
    },
    {
      "cell_type": "code",
      "metadata": {
        "colab_type": "code",
        "id": "w1lbnwgsbzHG",
        "colab": {
          "base_uri": "https://localhost:8080/",
          "height": 34
        },
        "outputId": "25bb71dc-c3c3-4bcf-8452-959f9dbfffb8"
      },
      "source": [
        "def word_lengths(sentence):\n",
        "    \"\"\"Return a list containing the length of each word in\n",
        "    sentence.\n",
        "    \n",
        "    >>> word_lengths(\"welcome to APS360!\")\n",
        "    [7, 2, 7]\n",
        "    >>> word_lengths(\"machine learning is so cool\")\n",
        "    [7, 8, 2, 2, 4]\n",
        "    \"\"\"\n",
        "    result = []\n",
        "    for i in sentence.split():\n",
        "      length = len(i)\n",
        "      result.append(length)\n",
        "    print(result)\n",
        "\n",
        "#testing function\n",
        "word_lengths(\"I am cait\")"
      ],
      "execution_count": null,
      "outputs": [
        {
          "output_type": "stream",
          "text": [
            "[1, 2, 4]\n"
          ],
          "name": "stdout"
        }
      ]
    },
    {
      "cell_type": "markdown",
      "metadata": {
        "colab_type": "text",
        "id": "iCsnzu4NIGuD"
      },
      "source": [
        "### Part (c) -- 1pt\n",
        "\n",
        "Write a function `all_same_length` that takes a sentence (string),\n",
        "and checks whether every word in the string is the same length.\n",
        "You should call the function `word_lengths` in the body\n",
        "of this new function.\n"
      ]
    },
    {
      "cell_type": "code",
      "metadata": {
        "colab_type": "code",
        "id": "Z-7qytZEIGuE",
        "colab": {}
      },
      "source": [
        "def all_same_length(sentence):\n",
        "    \"\"\"Return True if every word in sentence has the same\n",
        "    length, and False otherwise.\n",
        "    \n",
        "    >>> all_same_length(\"all same length\")\n",
        "    False\n",
        "    >>> word_lengths(\"hello world\")\n",
        "    True\n",
        "    \"\"\"\n",
        "    a = input\n",
        "    word_lengths(a)\n",
        "    if len(set(sentence)) == 1:\n",
        "      return True\n",
        "    else:\n",
        "      return False\n",
        "\n",
        "\n",
        "\n",
        "\n",
        "\n"
      ],
      "execution_count": null,
      "outputs": []
    },
    {
      "cell_type": "markdown",
      "metadata": {
        "colab_type": "text",
        "id": "yUh1MySTbzHT"
      },
      "source": [
        "## Part 2. NumPy Exercises [5 pt]\n",
        "\n",
        "In this part of the assignment, you'll be manipulating arrays \n",
        "usign NumPy. Normally, we use the shorter name `np` to represent\n",
        "the package `numpy`."
      ]
    },
    {
      "cell_type": "code",
      "metadata": {
        "colab_type": "code",
        "id": "H2opcxqMbzHW",
        "colab": {}
      },
      "source": [
        "import numpy as np"
      ],
      "execution_count": null,
      "outputs": []
    },
    {
      "cell_type": "markdown",
      "metadata": {
        "colab_type": "text",
        "id": "Ek29jdqPbzHf"
      },
      "source": [
        "### Part (a) -- 1pt\n",
        "\n",
        "The below variables `matrix` and `vector` are numpy arrays. Explain what you think `<NumpyArray>.size` and `<NumpyArray>.shape` represent."
      ]
    },
    {
      "cell_type": "code",
      "metadata": {
        "colab_type": "code",
        "id": "Z6eniOV2bzHi",
        "colab": {}
      },
      "source": [
        "matrix = np.array([[1., 2., 3., 0.5],\n",
        "                   [4., 5., 0., 0.],\n",
        "                   [-1., -2., 1., 1.]])\n",
        "vector = np.array([2., 0., 1., -2.])"
      ],
      "execution_count": null,
      "outputs": []
    },
    {
      "cell_type": "code",
      "metadata": {
        "colab_type": "code",
        "id": "JMIy15dKIGuP",
        "colab": {
          "base_uri": "https://localhost:8080/",
          "height": 34
        },
        "outputId": "91e17652-af31-4deb-c379-0708b0aac5c6"
      },
      "source": [
        "matrix.size\n",
        "#the \"size\" entails the # of elements that are found in the array, here there are 12 elements so the siz is 12"
      ],
      "execution_count": null,
      "outputs": [
        {
          "output_type": "execute_result",
          "data": {
            "text/plain": [
              "12"
            ]
          },
          "metadata": {
            "tags": []
          },
          "execution_count": 79
        }
      ]
    },
    {
      "cell_type": "code",
      "metadata": {
        "colab_type": "code",
        "id": "QoHaPzDNbzHo",
        "scrolled": true,
        "colab": {
          "base_uri": "https://localhost:8080/",
          "height": 34
        },
        "outputId": "3a5924f3-de58-4cbc-b68d-b44952c99772"
      },
      "source": [
        "matrix.shape\n",
        "#the \"shape\" describes the gepmetric layout of the array, the size of its rows and columns. This is given as (row, colums) as it \n",
        "#the usual matrix convention."
      ],
      "execution_count": null,
      "outputs": [
        {
          "output_type": "execute_result",
          "data": {
            "text/plain": [
              "(3, 4)"
            ]
          },
          "metadata": {
            "tags": []
          },
          "execution_count": 80
        }
      ]
    },
    {
      "cell_type": "code",
      "metadata": {
        "colab_type": "code",
        "id": "dErt6w25bzHu",
        "colab": {
          "base_uri": "https://localhost:8080/",
          "height": 34
        },
        "outputId": "3c15d86c-9def-4678-f389-584d188fab02"
      },
      "source": [
        "vector.size\n",
        "#here, the vector size is the number of elements in each row of the array. The vectors make up the rows of the array and the vector \n",
        "#size are how many elements are contained in each vector/row"
      ],
      "execution_count": null,
      "outputs": [
        {
          "output_type": "execute_result",
          "data": {
            "text/plain": [
              "4"
            ]
          },
          "metadata": {
            "tags": []
          },
          "execution_count": 81
        }
      ]
    },
    {
      "cell_type": "code",
      "metadata": {
        "colab_type": "code",
        "id": "TXhHCchIIGua",
        "colab": {
          "base_uri": "https://localhost:8080/",
          "height": 34
        },
        "outputId": "7d29d6b0-e590-4469-c7b7-0b26b55760ee"
      },
      "source": [
        "vector.shape\n",
        "#the shape of the vector entails the length of the given vector, here it is 4 elements"
      ],
      "execution_count": null,
      "outputs": [
        {
          "output_type": "execute_result",
          "data": {
            "text/plain": [
              "(4,)"
            ]
          },
          "metadata": {
            "tags": []
          },
          "execution_count": 82
        }
      ]
    },
    {
      "cell_type": "markdown",
      "metadata": {
        "colab_type": "text",
        "id": "9PQ-pRIlbzH8"
      },
      "source": [
        "### Part (b) -- 1pt\n",
        "\n",
        "Perform matrix multiplication `output = matrix x vector` by using\n",
        "for loops to iterate through the columns and rows.\n",
        "Do not use any builtin NumPy functions.\n",
        "Cast your output into a NumPy array, if it isn't one already.\n",
        "\n",
        "Hint: be mindful of the dimension of output"
      ]
    },
    {
      "cell_type": "code",
      "metadata": {
        "colab_type": "code",
        "id": "SXnZFii2bzH-",
        "colab": {
          "base_uri": "https://localhost:8080/",
          "height": 34
        },
        "outputId": "f418f0ba-fc57-42d1-a561-5d54c23d51bc"
      },
      "source": [
        "output = []\n",
        "value = 0\n",
        "for row in matrix:\n",
        "  value = 0\n",
        "  counter = 0\n",
        "  for col in row:\n",
        "    value += col*vector[counter]\n",
        "    counter+=1\n",
        "  output.append(value)\n",
        "output = np.array(output)\n",
        "print(output)"
      ],
      "execution_count": null,
      "outputs": [
        {
          "output_type": "stream",
          "text": [
            "[ 4.  8. -3.]\n"
          ],
          "name": "stdout"
        }
      ]
    },
    {
      "cell_type": "markdown",
      "metadata": {
        "colab_type": "text",
        "id": "O5UhbilNbzIP"
      },
      "source": [
        "### Part (c) -- 1pt\n",
        "\n",
        "Perform matrix multiplication `output2 = matrix x vector` by using\n",
        "the function `numpy.dot`.\n",
        "\n",
        "We will never actually write code as in\n",
        "part(c), not only because `numpy.dot` is more concise and easier to read/write, but also performance-wise `numpy.dot` is much faster (it is written in C and highly optimized).\n",
        "In general, we will avoid for loops in our code."
      ]
    },
    {
      "cell_type": "code",
      "metadata": {
        "colab_type": "code",
        "id": "X1LqY1eKbzIV",
        "colab": {
          "base_uri": "https://localhost:8080/",
          "height": 34
        },
        "outputId": "abb59df3-0677-48c3-b23e-5ec871f7ffea"
      },
      "source": [
        "output2 = np.dot(matrix, vector)\n",
        "print(output2)\n"
      ],
      "execution_count": null,
      "outputs": [
        {
          "output_type": "stream",
          "text": [
            "[ 4.  8. -3.]\n"
          ],
          "name": "stdout"
        }
      ]
    },
    {
      "cell_type": "markdown",
      "metadata": {
        "colab_type": "text",
        "id": "77XioX6vbzIb"
      },
      "source": [
        "### Part (d) -- 1pt\n",
        "\n",
        "As a way to test for consistency, show that the two outputs match."
      ]
    },
    {
      "cell_type": "code",
      "metadata": {
        "colab_type": "code",
        "id": "1Vc-Nvf0bzIc",
        "colab": {
          "base_uri": "https://localhost:8080/",
          "height": 34
        },
        "outputId": "123f04e9-2f06-4aaa-cab1-b7bde41e4990"
      },
      "source": [
        "output == output2\n",
        "#here i show that all 3 values in both outputs in the array are the same\n"
      ],
      "execution_count": null,
      "outputs": [
        {
          "output_type": "execute_result",
          "data": {
            "text/plain": [
              "array([ True,  True,  True])"
            ]
          },
          "metadata": {
            "tags": []
          },
          "execution_count": 85
        }
      ]
    },
    {
      "cell_type": "markdown",
      "metadata": {
        "colab_type": "text",
        "id": "wjEGmk8oIGur"
      },
      "source": [
        "### Part (e) -- 1pt\n",
        "\n",
        "Show that using `np.dot` is faster than using your code from part (c).\n",
        "\n",
        "You may find the below code snippit helpful:"
      ]
    },
    {
      "cell_type": "code",
      "metadata": {
        "colab_type": "code",
        "id": "XlnE0XO8IGur",
        "colab": {
          "base_uri": "https://localhost:8080/",
          "height": 34
        },
        "outputId": "6580ca52-172a-4d38-91b1-b0cb45c6221c"
      },
      "source": [
        "import time\n",
        "\n",
        "# record the time before running code\n",
        "start_time = time.time()\n",
        "\n",
        "# place code to run here\n",
        "output2 = np.dot(matrix, vector)\n",
        "  \n",
        "# record the time after the code is run\n",
        "end_time = time.time()\n",
        "\n",
        "# compute the difference\n",
        "diff = end_time - start_time\n",
        "diff"
      ],
      "execution_count": null,
      "outputs": [
        {
          "output_type": "execute_result",
          "data": {
            "text/plain": [
              "8.869171142578125e-05"
            ]
          },
          "metadata": {
            "tags": []
          },
          "execution_count": 86
        }
      ]
    },
    {
      "cell_type": "markdown",
      "metadata": {
        "colab_type": "text",
        "id": "LbKJjoHHbzI4"
      },
      "source": [
        "## Part 3. Images [6 pt]\n",
        "\n",
        "A picture or image can be represented as a NumPy array of “pixels”, \n",
        "with dimensions H × W × C, where H is the height of the image, W is the width of the image,\n",
        "and C is the number of colour channels. Typically we will use an image with channels that give the the Red, Green, and Blue “level” of each pixel, which is referred to with the short form RGB.\n",
        "\n",
        "You will write Python code to load an image, and perform several array manipulations to the image and visualize their effects. "
      ]
    },
    {
      "cell_type": "code",
      "metadata": {
        "colab_type": "code",
        "id": "FRGQKpEgbzI4",
        "colab": {}
      },
      "source": [
        "import matplotlib.pyplot as plt"
      ],
      "execution_count": null,
      "outputs": []
    },
    {
      "cell_type": "markdown",
      "metadata": {
        "colab_type": "text",
        "id": "p1D5mtCubzI6"
      },
      "source": [
        "### Part (a) -- 1 pt\n",
        "\n",
        "This is a photograph of a dog whose name is Mochi.\n",
        "\n",
        "![alt text](https://drive.google.com/uc?export=view&id=1oaLVR2hr1_qzpKQ47i9rVUIklwbDcews)\n",
        "\n",
        "Load the image from its url (https://drive.google.com/uc?export=view&id=1oaLVR2hr1_qzpKQ47i9rVUIklwbDcews) into the variable `img` using the `plt.imread` function.\n",
        "\n",
        "Hint: You can enter the URL directly into the `plt.imread` function as a Python string."
      ]
    },
    {
      "cell_type": "code",
      "metadata": {
        "colab_type": "code",
        "id": "RB8lf73vbzI7",
        "colab": {
          "base_uri": "https://localhost:8080/",
          "height": 874
        },
        "outputId": "4304f907-dbd5-494a-b567-dd16aa43c321"
      },
      "source": [
        "img = plt.imread(\"https://drive.google.com/uc?export=view&id=1oaLVR2hr1_qzpKQ47i9rVUIklwbDcews\")\n",
        "print(img)"
      ],
      "execution_count": null,
      "outputs": [
        {
          "output_type": "stream",
          "text": [
            "[[[0.5882353  0.37254903 0.14901961 1.        ]\n",
            "  [0.5764706  0.36078432 0.13725491 1.        ]\n",
            "  [0.5568628  0.34117648 0.11764706 1.        ]\n",
            "  ...\n",
            "  [0.40784314 0.22352941 0.16078432 1.        ]\n",
            "  [0.37254903 0.22352941 0.17254902 1.        ]\n",
            "  [0.30980393 0.20392157 0.16078432 1.        ]]\n",
            "\n",
            " [[0.5411765  0.32156864 0.09019608 1.        ]\n",
            "  [0.5647059  0.34509805 0.11372549 1.        ]\n",
            "  [0.59607846 0.3764706  0.14509805 1.        ]\n",
            "  ...\n",
            "  [0.4117647  0.22352941 0.16862746 1.        ]\n",
            "  [0.3882353  0.23921569 0.19607843 1.        ]\n",
            "  [0.31764707 0.21176471 0.1764706  1.        ]]\n",
            "\n",
            " [[0.6156863  0.3764706  0.15294118 1.        ]\n",
            "  [0.61960787 0.38431373 0.14901961 1.        ]\n",
            "  [0.61960787 0.38431373 0.14117648 1.        ]\n",
            "  ...\n",
            "  [0.4117647  0.22352941 0.1764706  1.        ]\n",
            "  [0.39607844 0.24705882 0.21176471 1.        ]\n",
            "  [0.32156864 0.21568628 0.1882353  1.        ]]\n",
            "\n",
            " ...\n",
            "\n",
            " [[0.70980394 0.5764706  0.3882353  1.        ]\n",
            "  [0.7058824  0.57254905 0.38431373 1.        ]\n",
            "  [0.69803923 0.5686275  0.36862746 1.        ]\n",
            "  ...\n",
            "  [0.7411765  0.64705884 0.4745098  1.        ]\n",
            "  [0.74509805 0.64705884 0.4862745  1.        ]\n",
            "  [0.77254903 0.6745098  0.5137255  1.        ]]\n",
            "\n",
            " [[0.72156864 0.5882353  0.4        1.        ]\n",
            "  [0.7176471  0.58431375 0.39607844 1.        ]\n",
            "  [0.7176471  0.58431375 0.39607844 1.        ]\n",
            "  ...\n",
            "  [0.7411765  0.6392157  0.4392157  1.        ]\n",
            "  [0.75686276 0.654902   0.4627451  1.        ]\n",
            "  [0.7764706  0.6745098  0.48235294 1.        ]]\n",
            "\n",
            " [[0.7137255  0.5803922  0.39215687 1.        ]\n",
            "  [0.7137255  0.5803922  0.39215687 1.        ]\n",
            "  [0.7176471  0.58431375 0.39607844 1.        ]\n",
            "  ...\n",
            "  [0.75686276 0.654902   0.45490196 1.        ]\n",
            "  [0.76862746 0.6666667  0.4745098  1.        ]\n",
            "  [0.77254903 0.67058825 0.47843137 1.        ]]]\n"
          ],
          "name": "stdout"
        }
      ]
    },
    {
      "cell_type": "markdown",
      "metadata": {
        "colab_type": "text",
        "id": "mNli5OsbbzI9"
      },
      "source": [
        "### Part (b) -- 1pt\n",
        "\n",
        "Use the function `plt.imshow` to visualize `img`. \n",
        "\n",
        "This function will also show the coordinate system used to identify pixels.\n",
        "The origin is at the top left corner, and the first dimension indicates the Y (row) direction, \n",
        "and the second dimension indicates the X (column) dimension."
      ]
    },
    {
      "cell_type": "code",
      "metadata": {
        "colab_type": "code",
        "id": "lEeHKc_abzI9",
        "scrolled": false,
        "colab": {
          "base_uri": "https://localhost:8080/",
          "height": 286
        },
        "outputId": "7fe0668e-40fc-4c4e-9d48-d9065198ae6c"
      },
      "source": [
        "plt.imshow(img)"
      ],
      "execution_count": null,
      "outputs": [
        {
          "output_type": "execute_result",
          "data": {
            "text/plain": [
              "<matplotlib.image.AxesImage at 0x7f53edbe4b00>"
            ]
          },
          "metadata": {
            "tags": []
          },
          "execution_count": 89
        },
        {
          "output_type": "display_data",
          "data": {
            "image/png": "[encoded data removed]",
            "text/plain": [
              "<Figure size 432x288 with 1 Axes>"
            ]
          },
          "metadata": {
            "tags": [],
            "needs_background": "light"
          }
        }
      ]
    },
    {
      "cell_type": "markdown",
      "metadata": {
        "colab_type": "text",
        "id": "pB-Hx-OFbzJC"
      },
      "source": [
        "### Part (c) -- 2pt\n",
        "\n",
        "Modify the image by adding a constant value of 0.25 to each pixel in the `img` and\n",
        "store the result in the variable `img_add`. Note that, since the range for the pixels \n",
        "needs to be between [0, 1], you will also need to clip img_add to be in the range [0, 1] \n",
        "using `numpy.clip`. Clipping sets any value that is outside of the desired range to the \n",
        "closest endpoint. Display the image using `plt.imshow`."
      ]
    },
    {
      "cell_type": "code",
      "metadata": {
        "colab_type": "code",
        "id": "GWBhZay2bzJC",
        "colab": {
          "base_uri": "https://localhost:8080/",
          "height": 286
        },
        "outputId": "626e576e-60dc-4a60-e5b2-8fd31f1dcf7f"
      },
      "source": [
        "img_add = np.clip(img + 0.25,0,1)\n",
        "\n",
        "#img_add = img+0.25\n",
        "#np.clip(img_add, a_min=0, a_max=1)\n",
        "\n",
        "plt.imshow(img_add)"
      ],
      "execution_count": null,
      "outputs": [
        {
          "output_type": "execute_result",
          "data": {
            "text/plain": [
              "<matplotlib.image.AxesImage at 0x7f53ecdd4e10>"
            ]
          },
          "metadata": {
            "tags": []
          },
          "execution_count": 90
        },
        {
          "output_type": "display_data",
          "data": {
            "image/png": "[encoded data removed]",
            "text/plain": [
              "<Figure size 432x288 with 1 Axes>"
            ]
          },
          "metadata": {
            "tags": [],
            "needs_background": "light"
          }
        }
      ]
    },
    {
      "cell_type": "markdown",
      "metadata": {
        "colab_type": "text",
        "id": "DeinKXBCbzJI"
      },
      "source": [
        "### Part (d) -- 2pt\n",
        "\n",
        "Crop the **original** image (`img` variable) to a 130 x 150 image including Mochi's face. Discard the alpha colour channel (i.e. resulting `img_cropped` should **only have RGB channels**)\n",
        "\n",
        "Display the image."
      ]
    },
    {
      "cell_type": "code",
      "metadata": {
        "id": "WkDVe_43cOY0",
        "colab_type": "code",
        "colab": {
          "base_uri": "https://localhost:8080/",
          "height": 286
        },
        "outputId": "56971216-dc2a-418d-80d5-68b4fe17b308"
      },
      "source": [
        "img_cropped = img[10:140, 0:150, :3]\n",
        "plt.imshow(img_cropped)\n"
      ],
      "execution_count": null,
      "outputs": [
        {
          "output_type": "execute_result",
          "data": {
            "text/plain": [
              "<matplotlib.image.AxesImage at 0x7f53eda48320>"
            ]
          },
          "metadata": {
            "tags": []
          },
          "execution_count": 91
        },
        {
          "output_type": "display_data",
          "data": {
            "image/png": "[encoded data removed]",
            "text/plain": [
              "<Figure size 432x288 with 1 Axes>"
            ]
          },
          "metadata": {
            "tags": [],
            "needs_background": "light"
          }
        }
      ]
    },
    {
      "cell_type": "markdown",
      "metadata": {
        "colab_type": "text",
        "id": "FmfE9CQdIGva"
      },
      "source": [
        "## Part 4. Basics of PyTorch [6 pt]\n",
        "\n",
        "PyTorch is a Python-based neural networks package. Along with tensorflow, PyTorch is currently one of the most popular machine learning libraries.\n",
        "\n",
        "PyTorch, at its core, is similar to Numpy in a sense that they both \n",
        "try to make it easier to write codes for scientific computing\n",
        "achieve improved performance over vanilla Python by leveraging highly optimized C back-end.\n",
        "However, compare to Numpy, PyTorch offers much better GPU support and provides many high-level features for machine learning. Technically, Numpy can be used to perform almost every thing PyTorch does. However, Numpy would be a lot slower than PyTorch, especially with CUDA GPU, and it would take more effort to write machine learning related code compared to using PyTorch."
      ]
    },
    {
      "cell_type": "code",
      "metadata": {
        "colab_type": "code",
        "id": "ppRPK-X2IGvb",
        "colab": {}
      },
      "source": [
        "import torch"
      ],
      "execution_count": null,
      "outputs": []
    },
    {
      "cell_type": "markdown",
      "metadata": {
        "colab_type": "text",
        "id": "DXrczIrSIGvf"
      },
      "source": [
        "### Part (a) -- 1 pt\n",
        "\n",
        "Use the function `torch.from_numpy` to convert the numpy array `img_cropped` into\n",
        "a PyTorch tensor. Save the result in a variable called `img_torch`."
      ]
    },
    {
      "cell_type": "code",
      "metadata": {
        "colab_type": "code",
        "id": "j9rYyf4gIGvj",
        "colab": {}
      },
      "source": [
        "img_torch = torch.from_numpy(img_cropped)"
      ],
      "execution_count": null,
      "outputs": []
    },
    {
      "cell_type": "markdown",
      "metadata": {
        "colab_type": "text",
        "id": "zrpPeRKtIGvn"
      },
      "source": [
        "### Part (b) -- 1pt\n",
        "\n",
        "Use the method `<Tensor>.shape` to find the shape (dimension and size) of `img_torch`."
      ]
    },
    {
      "cell_type": "code",
      "metadata": {
        "colab_type": "code",
        "id": "ws7G_aaxIGvn",
        "colab": {
          "base_uri": "https://localhost:8080/",
          "height": 34
        },
        "outputId": "8af725a3-b396-45d6-d38f-9605b121e930"
      },
      "source": [
        "img_torch.shape"
      ],
      "execution_count": null,
      "outputs": [
        {
          "output_type": "execute_result",
          "data": {
            "text/plain": [
              "torch.Size([130, 150, 3])"
            ]
          },
          "metadata": {
            "tags": []
          },
          "execution_count": 94
        }
      ]
    },
    {
      "cell_type": "markdown",
      "metadata": {
        "colab_type": "text",
        "id": "uorV8t1pIGvp"
      },
      "source": [
        "### Part (c) -- 1pt\n",
        "\n",
        "How many floating-point numbers are stored in the tensor `img_torch`?"
      ]
    },
    {
      "cell_type": "code",
      "metadata": {
        "colab_type": "code",
        "id": "sucaE_VCIGvq",
        "colab": {
          "base_uri": "https://localhost:8080/",
          "height": 34
        },
        "outputId": "ad4b73a7-f941-42b3-9a91-edb4bff14e66"
      },
      "source": [
        "img_torch.numel()"
      ],
      "execution_count": null,
      "outputs": [
        {
          "output_type": "execute_result",
          "data": {
            "text/plain": [
              "58500"
            ]
          },
          "metadata": {
            "tags": []
          },
          "execution_count": 95
        }
      ]
    },
    {
      "cell_type": "markdown",
      "metadata": {
        "colab_type": "text",
        "id": "sIcXGdg5IGvu"
      },
      "source": [
        "### Part (d) -- 1 pt\n",
        "\n",
        "What does the code `img_torch.transpose(0,2)` do? What does the expression return? \n",
        "Is the original variable `img_torch` updated? Explain."
      ]
    },
    {
      "cell_type": "code",
      "metadata": {
        "colab_type": "code",
        "id": "omOJqIhEIGvu",
        "colab": {}
      },
      "source": [
        "img_torch.transpose(0,2)\n",
        "#this above function transposes the original array on the 0 and 2 axis. The original variable is not permanently updated, just while the \n",
        "#function is applied to it\n",
        "\n",
        "\n",
        "\n"
      ],
      "execution_count": null,
      "outputs": []
    },
    {
      "cell_type": "markdown",
      "metadata": {
        "colab_type": "text",
        "id": "lHrzC0EqIGvx"
      },
      "source": [
        "### Part (e) -- 1 pt\n",
        "\n",
        "What does the code `img_torch.unsqueeze(0)` do? What does the expression return? \n",
        "Is the original variable `img_torch` updated? Explain."
      ]
    },
    {
      "cell_type": "code",
      "metadata": {
        "colab_type": "code",
        "id": "ZFePj7E5IGvz",
        "colab": {}
      },
      "source": [
        "img_torch.unsqueeze(0)\n",
        "#Returns a new tensor with a dimension of size one inserted at the specified position, which is 0\n",
        "#does not update the original variable\n"
      ],
      "execution_count": null,
      "outputs": []
    },
    {
      "cell_type": "markdown",
      "metadata": {
        "colab_type": "text",
        "id": "re16jTB9IGv0"
      },
      "source": [
        "### Part (f) -- 1 pt\n",
        "\n",
        "Find the maximum value of `img_torch` along each colour channel? Your output should be a one-dimensional\n",
        "PyTorch tensor with exactly three values.\n",
        "\n",
        "Hint: lookup the function `torch.max`."
      ]
    },
    {
      "cell_type": "code",
      "metadata": {
        "id": "JhSJADAxR9lT",
        "colab_type": "code",
        "colab": {}
      },
      "source": [
        "#find max value of img_torch along each colour channel, output should be 1d pyToch tensor w 3 values\n",
        "#Returns the indices of the maximum value of all elements in the input t\n",
        "\n",
        "max_col_values=img_torch.max(0).values.max(0).values\n",
        "print(max_col_values)"
      ],
      "execution_count": null,
      "outputs": []
    },
    {
      "cell_type": "markdown",
      "metadata": {
        "colab_type": "text",
        "id": "3hhA2sX0au0D"
      },
      "source": [
        "## Part 5. Training an ANN [10 pt]\n",
        "\n",
        "The sample code provided below is a 2-layer ANN trained on the MNIST dataset to identify digits less than 3 or greater than and equal to 3. Modify the code by changing any of the following and observe how the accuracy and error are affected:\n",
        "\n",
        "- number of training iterations\n",
        "- number of hidden units\n",
        "- numbers of layers\n",
        "- types of activation functions\n",
        "- learning rate\n",
        "\n"
      ]
    },
    {
      "cell_type": "code",
      "metadata": {
        "colab_type": "code",
        "id": "GGtthiz1tDh5",
        "colab": {
          "base_uri": "https://localhost:8080/",
          "height": 87
        },
        "outputId": "ef05bd7f-c146-4595-c9e8-5f14b5e0ec65"
      },
      "source": [
        "import torch\n",
        "import torch.nn as nn\n",
        "import torch.nn.functional as F\n",
        "from torchvision import datasets, transforms\n",
        "import matplotlib.pyplot as plt # for plotting\n",
        "import torch.optim as optim\n",
        "\n",
        "torch.manual_seed(1) # set the random seed\n",
        "\n",
        "# define a 2-layer artificial neural network\n",
        "class Pigeon(nn.Module):\n",
        "    def __init__(self):\n",
        "        super(Pigeon, self).__init__()\n",
        "        self.layer1 = nn.Linear(28 * 28, 1000)\n",
        "        self.layer2 = nn.Linear(1000, 1)\n",
        "        #here, need to change the \"30\" to some other value both times and see how it affects, this is the hidden layer\n",
        "    def forward(self, img):\n",
        "        flattened = img.view(-1, 28 * 28)\n",
        "        activation1 = self.layer1(flattened)\n",
        "        activation1 = F.relu(activation1)\n",
        "        activation2 = self.layer2(activation1)\n",
        "        return activation2\n",
        "\n",
        "  #i tried creating a 3 layer neural network, but the results we not better than with the 2 layer, so i am sticking with 2 for this lab\n",
        "\n",
        "pigeon = Pigeon()\n",
        "\n",
        "# load the data\n",
        "mnist_data = datasets.MNIST('data', train=True, download=True)\n",
        "mnist_data = list(mnist_data)\n",
        "mnist_train = mnist_data[:1000]\n",
        "mnist_val   = mnist_data[1000:2000]\n",
        "img_to_tensor = transforms.ToTensor()\n",
        "      \n",
        "    \n",
        "# simplified training code to train `pigeon` on the \"small digit recognition\" task\n",
        "criterion = nn.BCEWithLogitsLoss()\n",
        "optimizer = optim.SGD(pigeon.parameters(), lr=0.0045, momentum=0.9)\n",
        "optimizer = optim.Adam(pigeon.parameters())\n",
        "lossL = []\n",
        "#change the above learning rate to see how it changes the outputs\n",
        "\n",
        " \n",
        "for i in range(25):\n",
        "  avg_loss = 0\n",
        "#need to add a rtaining forloop\n",
        "  for (image, label) in mnist_train:\n",
        "      # actual ground truth: is the digit less than 3?\n",
        "      actual = torch.tensor(label < 3).reshape([1,1]).type(torch.FloatTensor)\n",
        "      # pigeon prediction\n",
        "      out = pigeon(img_to_tensor(image)) # step 1-2\n",
        "    # update the parameters based on the loss\n",
        "      loss = criterion(out, actual)      # step 3\n",
        "      loss.backward()                    # step 4 (compute the updates for each parameter)\n",
        "      optimizer.step()                   # step 4 (make the updates for each parameter)\n",
        "      optimizer.zero_grad()              # a clean up step for PyTorch\n",
        "  lossL.append(avg_loss/len(mnist_train))\n",
        "\n",
        "\n",
        "# computing the error and accuracy on the training set\n",
        "error = 0\n",
        "#add a for loop to go over the forloop _ times\n",
        "for (image, label) in mnist_train:\n",
        "    prob = torch.sigmoid(pigeon(img_to_tensor(image)))\n",
        "    if (prob < 0.5 and label < 3) or (prob >= 0.5 and label >= 3):\n",
        "        error += 1\n",
        "print(\"Training Error Rate:\", error/len(mnist_train))\n",
        "print(\"Training Accuracy:\", 1 - error/len(mnist_train))\n",
        "\n",
        "\n",
        "# computing the error and accuracy on a test set\n",
        "error = 0\n",
        "for (image, label) in mnist_val:\n",
        "    prob = torch.sigmoid(pigeon(img_to_tensor(image)))\n",
        "    if (prob < 0.5 and label < 3) or (prob >= 0.5 and label >= 3):\n",
        "        error += 1\n",
        "print(\"Test Error Rate:\", error/len(mnist_val))\n",
        "print(\"Test Accuracy:\", 1 - error/len(mnist_val))"
      ],
      "execution_count": null,
      "outputs": [
        {
          "output_type": "stream",
          "text": [
            "Training Error Rate: 0.0\n",
            "Training Accuracy: 1.0\n",
            "Test Error Rate: 0.051\n",
            "Test Accuracy: 0.949\n"
          ],
          "name": "stdout"
        }
      ]
    },
    {
      "cell_type": "markdown",
      "metadata": {
        "colab_type": "text",
        "id": "viYKlFupcgF3"
      },
      "source": [
        "### Part (a) -- 3 pt\n",
        "Comment on which of the above changes resulted in the best accuracy on training data? What accuracy were you able to achieve?"
      ]
    },
    {
      "cell_type": "code",
      "metadata": {
        "colab_type": "code",
        "id": "FMgRXRqiqAEx",
        "colab": {}
      },
      "source": [
        "\n",
        "# original training results :\n",
        "# original training error rate : 0.036\n",
        "#original training accuracy rate : 0.964\n",
        "\n",
        "#the number of training iterations has the greatest effect on training accuracy and training error rate.\n",
        "#for this reason i changed the number of hidden units to 1000, this took significantly longer to run but improved my results\n",
        "\n",
        "#best training error rate : 0\n",
        "#best training accurary : 1"
      ],
      "execution_count": null,
      "outputs": []
    },
    {
      "cell_type": "markdown",
      "metadata": {
        "colab_type": "text",
        "id": "pi6bWs7jcIem"
      },
      "source": [
        "### Part (b) -- 3 pt\n",
        "\n",
        "\n",
        "Comment on which of the above changes resulted in the best accuracy on testing data? What accuracy were you able to achieve?"
      ]
    },
    {
      "cell_type": "code",
      "metadata": {
        "colab_type": "code",
        "id": "QtyIrtuNqAh0",
        "colab": {}
      },
      "source": [
        "# original testing results :\n",
        "# original testing error rate : 0.079\n",
        "#original testing accuracy rate : 0.921\n",
        "\n",
        "#adding more hidden units yields the best testing accuracy, this amount of hidden units may over fit the data, but as we are using\n",
        "#the same data in training as the training output results this will yield a good result\n",
        "#best testing accuracy : 0.949\n",
        "#best testing error : 0.051"
      ],
      "execution_count": null,
      "outputs": []
    },
    {
      "cell_type": "markdown",
      "metadata": {
        "colab_type": "text",
        "id": "j7W2k347wFqo"
      },
      "source": [
        "### Part (c) -- 4 pt\n",
        "Which model hyperparameters should you use, the ones from (a) or (b)?"
      ]
    },
    {
      "cell_type": "code",
      "metadata": {
        "colab_type": "code",
        "id": "nuESNMuewOnT",
        "colab": {}
      },
      "source": [
        "#there is bias in the training data results as the model is trained on this training data.\n",
        "#the models ability to generalize the data and still come up with good results is seen in the testing data.\n",
        "#using the hyperparameters from b (the testing data) would be the best option bc of this general nature and not having already been \n",
        "#exposed to the data its being used to test  as in the case for training data)"
      ],
      "execution_count": null,
      "outputs": []
    }
  ]
}